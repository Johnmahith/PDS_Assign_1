{
  "nbformat": 4,
  "nbformat_minor": 0,
  "metadata": {
    "colab": {
      "provenance": []
    },
    "kernelspec": {
      "name": "python3",
      "display_name": "Python 3"
    },
    "language_info": {
      "name": "python"
    }
  },
  "cells": [
    {
      "cell_type": "markdown",
      "source": [
        " ### 1) Frailty is physical weakness; lack of health or strength. Reduced grip strength in females correlated with higher frailty scores and vice versa. Hand grip strength can be quantified by measuring the amount of static force that the hand can squeeze around a dynamometer. The force has most commonly been measured in kilograms and pounds. The table below represents data from 10 female participants. The Height is measured in inches, Weight in pounds, Age in years, Grip strength in kilograms. Frailty is qualitative attribute indicated the presence or absence of the symptoms. Based on the following table,design the three stages of reproducible workflow, includes the work you can do and the folder structure in each stage."
      ],
      "metadata": {
        "id": "sNfh30Pml0U4"
      }
    },
    {
      "cell_type": "code",
      "execution_count": 1,
      "metadata": {
        "colab": {
          "base_uri": "https://localhost:8080/",
          "height": 1000
        },
        "id": "-f6REFenlQti",
        "outputId": "99423324-6b45-46d1-da2e-2eabc2fa61ce"
      },
      "outputs": [
        {
          "output_type": "display_data",
          "data": {
            "text/plain": [
              "<Figure size 640x480 with 1 Axes>"
            ],
            "image/png": "[encoded data removed]"
          },
          "metadata": {}
        },
        {
          "output_type": "stream",
          "name": "stderr",
          "text": [
            "/usr/local/lib/python3.10/dist-packages/scipy/stats/_stats_py.py:1806: UserWarning: kurtosistest only valid for n>=20 ... continuing anyway, n=10\n",
            "  warnings.warn(\"kurtosistest only valid for n>=20 ... continuing \"\n"
          ]
        },
        {
          "output_type": "stream",
          "name": "stdout",
          "text": [
            "                            OLS Regression Results                            \n",
            "==============================================================================\n",
            "Dep. Variable:                Frailty   R-squared:                       0.530\n",
            "Model:                            OLS   Adj. R-squared:                  0.396\n",
            "Method:                 Least Squares   F-statistic:                     3.949\n",
            "Date:                Tue, 13 Feb 2024   Prob (F-statistic):             0.0711\n",
            "Time:                        03:50:48   Log-Likelihood:                -3.2769\n",
            "No. Observations:                  10   AIC:                             12.55\n",
            "Df Residuals:                       7   BIC:                             13.46\n",
            "Df Model:                           2                                         \n",
            "Covariance Type:            nonrobust                                         \n",
            "=================================================================================\n",
            "                    coef    std err          t      P>|t|      [0.025      0.975]\n",
            "---------------------------------------------------------------------------------\n",
            "Grip Strength    -0.0564      0.030     -1.906      0.098      -0.126       0.014\n",
            "weight            0.0200      0.009      2.127      0.071      -0.002       0.042\n",
            "Intercept        -0.7722      1.444     -0.535      0.609      -4.187       2.642\n",
            "==============================================================================\n",
            "Omnibus:                        0.767   Durbin-Watson:                   2.482\n",
            "Prob(Omnibus):                  0.682   Jarque-Bera (JB):                0.630\n",
            "Skew:                          -0.491   Prob(JB):                        0.730\n",
            "Kurtosis:                       2.260   Cond. No.                     1.54e+03\n",
            "==============================================================================\n",
            "\n",
            "Notes:\n",
            "[1] Standard Errors assume that the covariance matrix of the errors is correctly specified.\n",
            "[2] The condition number is large, 1.54e+03. This might indicate that there are\n",
            "strong multicollinearity or other numerical problems.\n"
          ]
        },
        {
          "output_type": "execute_result",
          "data": {
            "text/plain": [
              "('/content/drive/MyDrive/clean_yield_data.csv',\n",
              " '/content/drive/MyDrive/result.txt')"
            ]
          },
          "metadata": {},
          "execution_count": 1
        }
      ],
      "source": [
        "import pandas as pd\n",
        "import numpy as np\n",
        "import statsmodels.api as sm\n",
        "import matplotlib.pyplot as plt\n",
        "\n",
        "# Step 1: Reading the Data\n",
        "input_data = pd.read_csv('/content/drive/MyDrive/frailty data.csv')\n",
        "\n",
        "# Step 2: removing NA values\n",
        "input_data = input_data.dropna()\n",
        "\n",
        "# Step 3: Cleaning Data - Converting 'Frailty' from 'Y'/'N' to 1/0\n",
        "input_data['Frailty'] = np.where(input_data['Frailty'] == 'Y', 1, 0)\n",
        "\n",
        "# Step 4: Writing the cleaned data to a new CSV file\n",
        "clean_data_path = '/content/drive/MyDrive/clean_yield_data.csv'\n",
        "input_data.to_csv(clean_data_path, index=False)\n",
        "\n",
        "\n",
        "# Step 6: Analysis - Linear regression\n",
        "# Adding a constant term for intercept\n",
        "input_data['Intercept'] = 1\n",
        "\n",
        "# Specifying the independent variables and the dependent variable\n",
        "X = input_data[['Grip Strength', 'weight', 'Intercept']]\n",
        "y = input_data['Frailty']\n",
        "\n",
        "# Fitting the model\n",
        "lm_fit = sm.OLS(y, X).fit()\n",
        "\n",
        "# Step 7: Plotting the linear model fit\n",
        "plt.scatter(lm_fit.predict(), lm_fit.resid)\n",
        "plt.xlabel('Fitted values')\n",
        "plt.ylabel('Residuals')\n",
        "plt.title('Residuals vs Fitted')\n",
        "plt.axhline(y=0, color='red', linestyle='--')\n",
        "plt.show()\n",
        "\n",
        "# Step 8: Summarizing the linear model fit and writing the summary to a text file\n",
        "result_text = lm_fit.summary().as_text()\n",
        "\n",
        "result_path = '/content/drive/MyDrive/result.txt'\n",
        "with open(result_path, 'w') as file:\n",
        "    file.write(result_text)\n",
        "\n",
        "# Output the summary result to the console\n",
        "print(result_text)\n",
        "\n",
        "# Return the paths to the cleaned data CSV and result text file\n",
        "clean_data_path, result_path"
      ]
    }
  ]
}